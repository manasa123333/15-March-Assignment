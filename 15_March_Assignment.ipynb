{
 "cells": [
  {
   "cell_type": "markdown",
   "id": "c9902cf7-5450-4abf-b69f-dab7aec67383",
   "metadata": {},
   "source": [
    "Q1: Explain the following with an example:                                             \n",
    "\n",
    "1. Artificial Intelligence.                                                                    \n",
    "=>  Artificial Intelligence is a smart appliction that can perform its own task without human intervention.               \n",
    "\n",
    "2. Machine Learning                                               \n",
    "=>  Machine Learning is subset of AI & it provide statistical tools to analyze,visualize,predictive models & forcasting.     \n",
    "3. Deep Learning                               \n",
    "=>  Deep Learning's main aim is to mimic the human brain.                   "
   ]
  },
  {
   "cell_type": "markdown",
   "id": "2c2f054e-82a3-4c91-afa7-e0548cc2749b",
   "metadata": {},
   "source": [
    "Q2: What is supervised learning? List some examples of supervised learning.                                  \n",
    "=> Supervised learning is a process of providing input data as well as correct output data to the machine learning model.\n",
    "Example: marks of student based on number of study hour,review of customer etc."
   ]
  },
  {
   "cell_type": "markdown",
   "id": "de76d9c2-86c5-473d-b687-b1d7e1fc2bf5",
   "metadata": {},
   "source": [
    "Q3: What is unsupervised learning? List some examples of unsupervised learning.                  \n",
    "=> Unsupervised learning is when it can provide a set of unlabelled data, which it is required to analyze and find patterns inside.           \n",
    "Example: Suppose the unsupervised learning algorithm is given an input dataset containing images of different types of cats and dogs. The algorithm is never trained upon the given dataset, which means it does not have any idea about the features of the dataset. The task of the unsupervised learning algorithm is to identify the image features on their own. Unsupervised learning algorithm will perform this task by clustering the image dataset into the groups according to similarities between images"
   ]
  },
  {
   "cell_type": "markdown",
   "id": "c3213f5e-e673-4f99-b260-91aa3bfd742a",
   "metadata": {},
   "source": [
    "Q4: What is the difference between Al, ML, DL, and DS?      \n",
    "Artificial Intelligence.        \n",
    "=> Artificial Intelligence is a smart appliction that can perform its own task without human intervention.       \n",
    "\n",
    "Machine Learning         \n",
    "=> Machine Learning is subset of AI & it provide statistical tools to analyze,visualize,predictive models & forcasting.    \n",
    "\n",
    "Deep Learning      \n",
    "=> Deep Learning's main aim is to mimic the human brain.                                       \n",
    "\n",
    "Data Science          \n",
    "Data science is the study of data to extract meaningful insights for business. It is a multidisciplinary approach that combines principles and practices from the fields of mathematics, statistics, artificial intelligence, and computer engineering to analyze large amounts of data"
   ]
  },
  {
   "cell_type": "markdown",
   "id": "22f0efba-908f-490f-b028-5cf957eb74e0",
   "metadata": {},
   "source": [
    "Q5: What are the main differences between supervised, unsupervised, and semi-supervised learning?                \n",
    "Supervised learning is the process where you have input variables (X) and an output variable (Y) and you use an algorithm to learn the mapping function from the input to the output.                    \n",
    "Unsupervised learning is a machine learning technique, where you do not need to supervise the model. Instead, you need to allow the model to work on its own to discover information. It mainly deals with the unlabeled data.              \n",
    "\n",
    "Semi-supervised machine learning is a combination of supervised and unsupervised learning. It uses a small amount of labeled data and a large amount of unlabeled data, which provides the benefits of both unsupervised and supervised learning while avoiding the challenges of finding a large amount of labeled"
   ]
  },
  {
   "cell_type": "markdown",
   "id": "206ff89a-fc9d-480a-8001-703ae31f6dca",
   "metadata": {},
   "source": [
    "Q6- What is train, test and validation split? E=plain the importance of each term.                                  \n",
    "=>splitting the given dataset into train dataset,validation data and test data is known as train, test and validation split.\n",
    "Training data is the set of the data on which the actual training takes place. Validation split helps to improve the model performance by fine-tuning the model after each epoch. The test set informs us about the final accuracy of the model after completing the training phase"
   ]
  },
  {
   "cell_type": "markdown",
   "id": "aa56dc4b-40ed-4de0-b885-895664e2446e",
   "metadata": {},
   "source": [
    "Q7- How can unsupervised learning be used in anomaly detection?                                                \n",
    "The most common version of anomaly detection is using the unsupervised approach. In there, we train a machine-learning model to fit to the normal behavior using an unlabeled dataset. In that process, we make an important assumption that the majority of the data in the training set are normal examples"
   ]
  },
  {
   "cell_type": "markdown",
   "id": "2921dfbe-8b45-4f19-a035-0089ba2badd9",
   "metadata": {},
   "source": [
    "Q8- List down somK commonly usKd supKrvisKd lKarnin* al*orithms and unsupKrvisKd lKarnin*\n",
    "al*orithms."
   ]
  }
 ],
 "metadata": {
  "kernelspec": {
   "display_name": "Python 3 (ipykernel)",
   "language": "python",
   "name": "python3"
  },
  "language_info": {
   "codemirror_mode": {
    "name": "ipython",
    "version": 3
   },
   "file_extension": ".py",
   "mimetype": "text/x-python",
   "name": "python",
   "nbconvert_exporter": "python",
   "pygments_lexer": "ipython3",
   "version": "3.10.8"
  }
 },
 "nbformat": 4,
 "nbformat_minor": 5
}
